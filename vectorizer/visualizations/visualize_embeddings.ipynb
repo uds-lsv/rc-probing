{
 "nbformat": 4,
 "nbformat_minor": 2,
 "metadata": {
  "language_info": {
   "name": "python",
   "codemirror_mode": {
    "name": "ipython",
    "version": 3
   },
   "version": "3.6.9-final"
  },
  "orig_nbformat": 2,
  "file_extension": ".py",
  "mimetype": "text/x-python",
  "name": "python",
  "npconvert_exporter": "python",
  "pygments_lexer": "ipython3",
  "version": 3,
  "kernelspec": {
   "name": "python36964bitbaseconda8878173feed741c9a28de977e1e8e947",
   "display_name": "Python 3.6.9 64-bit ('base': conda)"
  }
 },
 "cells": [
  {
   "cell_type": "code",
   "execution_count": null,
   "metadata": {},
   "outputs": [],
   "source": [
    "import sys\n",
    "sys.path.insert(0, \"/vectorizer\")\n",
    "\n",
    "import numpy as np \n",
    "import matplotlib\n",
    "import matplotlib.pyplot as plt\n",
    "from matplotlib.ticker import (MultipleLocator, FormatStrFormatter,\n",
    "                               AutoMinorLocator)\n",
    "                               \n",
    "from scipy.spatial.distance import cosine\n",
    "from sklearn.manifold import TSNE\n",
    "\n",
    "from vectorizer.utils import load_embeddings_from_hdf5, load_labels_from_npy"
   ]
  },
  {
   "cell_type": "code",
   "execution_count": null,
   "metadata": {},
   "outputs": [],
   "source": [
    "# EMBEDDINGS_FILE = \"/datasets/probing/rc_probing/v0.3/balanced/embeddings/sentence-embeddings/dev.tsv_bert-base-cased_layer=0_pooler=cls.hdf5\"\n",
    "# EMBEDDINGS_FILE = \"/datasets/probing/rc_probing/v0.3/balanced/embeddings/sentence-embeddings/dev.tsv_bert-base-cased_layer=5_pooler=mean.hdf5\"\n",
    "EMBEDDINGS_FILE = \"/datasets/probing/rc_probing/v0.3/balanced/embeddings/sentence-embeddings/dev.tsv_glove_layer=0_pooler=mean.hdf5\"\n",
    "\n",
    "LABELS_FILE = \"/datasets/probing/rc_probing/v0.3/balanced/embeddings/sentence-embeddings/dev_labels.npy\""
   ]
  },
  {
   "cell_type": "code",
   "execution_count": null,
   "metadata": {},
   "outputs": [],
   "source": [
    "# Load embeddings and labels from disc\n",
    "embeddings = load_embeddings_from_hdf5(EMBEDDINGS_FILE)\n",
    "labels = load_labels_from_npy(LABELS_FILE)"
   ]
  },
  {
   "cell_type": "code",
   "execution_count": null,
   "metadata": {},
   "outputs": [],
   "source": [
    "print(embeddings.shape)\n",
    "print(labels.shape)\n",
    "print(labels.flatten())"
   ]
  },
  {
   "cell_type": "code",
   "execution_count": null,
   "metadata": {},
   "outputs": [],
   "source": [
    "print(embeddings[:10, :])"
   ]
  },
  {
   "cell_type": "code",
   "execution_count": null,
   "metadata": {},
   "outputs": [],
   "source": [
    "positive_sample_indices = np.where(labels.flatten() == 1)[0]\n",
    "negative_sample_indices = np.where(labels.flatten() == 0)[0]\n",
    "print(len(positive_sample_indices))\n",
    "print(len(negative_sample_indices))"
   ]
  },
  {
   "cell_type": "code",
   "execution_count": null,
   "metadata": {},
   "outputs": [],
   "source": [
    "# Plot histograms for embeddings\n",
    "N = 100\n",
    "fig, axes = plt.subplots(1, 1, figsize=(7, 4), dpi=100)\n",
    "\n",
    "for idx, sample_embeddings in enumerate(embeddings[:N]):\n",
    "    axes.hist(sample_embeddings, alpha=0.25, bins=50, density=False, label=f'sample: {idx}')\n",
    "# axes.legend(loc='best');"
   ]
  },
  {
   "cell_type": "code",
   "execution_count": null,
   "metadata": {},
   "outputs": [],
   "source": [
    "# Create t-SNE emebddings\n",
    "ppl = 30\n",
    "init = 'random'\n",
    "\n",
    "tsne = TSNE(n_components=2, perplexity=ppl, random_state=123, init=init)   \n",
    "tsne_embedded = tsne.fit_transform(embeddings[:])\n",
    "print(tsne_embedded.shape)"
   ]
  },
  {
   "cell_type": "code",
   "execution_count": null,
   "metadata": {},
   "outputs": [],
   "source": [
    "# Plot t-SNE embeddings\n",
    "fig, axes = plt.subplots(1, 1, figsize=(7, 7), dpi=100)\n",
    "\n",
    "# Plot positive samples\n",
    "x, y = tsne_embedded[positive_sample_indices, 0], tsne_embedded[positive_sample_indices, 1]\n",
    "axes.scatter(x, y, marker='.', linewidths=2, alpha=0.5, label='1')\n",
    "\n",
    "# Plot negative samples\n",
    "x, y = tsne_embedded[negative_sample_indices, 0], tsne_embedded[negative_sample_indices, 1]\n",
    "axes.scatter(x, y, marker='.', linewidths=2, alpha=0.5, label='0')\n",
    "\n",
    "axes.set_title(f'init={init} -- ppl={ppl}')\n",
    "axes.legend(loc='best')\n",
    "axes.xaxis.set_minor_locator(AutoMinorLocator())\n",
    "axes.yaxis.set_minor_locator(AutoMinorLocator())\n",
    "axes.tick_params(which='minor', length=3, color='black')\n",
    "axes.grid(color='gray', linestyle='--', linewidth=.25)\n",
    "    \n",
    "plt.tight_layout();"
   ]
  },
  {
   "cell_type": "code",
   "execution_count": null,
   "metadata": {},
   "outputs": [],
   "source": []
  }
 ]
}