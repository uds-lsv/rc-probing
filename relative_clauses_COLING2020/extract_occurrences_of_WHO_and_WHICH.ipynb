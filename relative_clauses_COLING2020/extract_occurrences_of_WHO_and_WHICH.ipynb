{
 "cells": [
  {
   "cell_type": "code",
   "execution_count": 2,
   "metadata": {},
   "outputs": [],
   "source": [
    "import sys\n",
    "sys.path.append('/projects/sopro_nmt/badr/conda3/lib/python3.6/site-packages/')\n",
    "\n",
    "import spacy \n",
    "import pandas as pd\n",
    "from collections import defaultdict, Counter\n",
    "\n",
    "import glob"
   ]
  },
  {
   "cell_type": "code",
   "execution_count": 3,
   "metadata": {},
   "outputs": [],
   "source": [
    "csv_files = glob.glob(\"RC_FICTION/*.RC.tsv\")"
   ]
  },
  {
   "cell_type": "code",
   "execution_count": 4,
   "metadata": {},
   "outputs": [
    {
     "data": {
      "text/plain": [
       "['RC_FICTION/w_fic_2010.RC.tsv',\n",
       " 'RC_FICTION/w_fic_2005.RC.tsv',\n",
       " 'RC_FICTION/w_fic_1999.RC.tsv',\n",
       " 'RC_FICTION/w_fic_2007.RC.tsv',\n",
       " 'RC_FICTION/w_fic_1995.RC.tsv',\n",
       " 'RC_FICTION/w_fic_2012.RC.tsv',\n",
       " 'RC_FICTION/w_fic_2004.RC.tsv',\n",
       " 'RC_FICTION/w_fic_1992.RC.tsv',\n",
       " 'RC_FICTION/w_fic_2001.RC.tsv',\n",
       " 'RC_FICTION/w_fic_1998.RC.tsv',\n",
       " 'RC_FICTION/w_fic_2009.RC.tsv',\n",
       " 'RC_FICTION/w_fic_1991.RC.tsv',\n",
       " 'RC_FICTION/w_fic_2003.RC.tsv',\n",
       " 'RC_FICTION/w_fic_2002.RC.tsv',\n",
       " 'RC_FICTION/w_fic_1996.RC.tsv',\n",
       " 'RC_FICTION/labeled.RC.tsv',\n",
       " 'RC_FICTION/w_fic_1994.RC.tsv',\n",
       " 'RC_FICTION/w_fic_2008.RC.tsv',\n",
       " 'RC_FICTION/w_fic_1993.RC.tsv',\n",
       " 'RC_FICTION/w_fic_1997.RC.tsv',\n",
       " 'RC_FICTION/w_fic_2000.RC.tsv',\n",
       " 'RC_FICTION/w_fic_2006.RC.tsv',\n",
       " 'RC_FICTION/w_fic_1990.RC.tsv',\n",
       " 'RC_FICTION/w_fic_2011.RC.tsv']"
      ]
     },
     "execution_count": 4,
     "metadata": {},
     "output_type": "execute_result"
    }
   ],
   "source": [
    "csv_files"
   ]
  },
  {
   "cell_type": "code",
   "execution_count": 5,
   "metadata": {},
   "outputs": [],
   "source": [
    "WHO_list, WHICH_list, THAT_list = [], [], []\n",
    "\n",
    "for _csv in csv_files:\n",
    "    \n",
    "    df = pd.read_csv(_csv, sep='\\t')\n",
    "    WHO_list.extend(df[df['relativizer_word'] == 'who']['RC_modifier_head'].to_list())\n",
    "    WHICH_list.extend(df[df['relativizer_word'] == 'which']['RC_modifier_head'].to_list())\n",
    "    THAT_list.extend(df[df['relativizer_word'] == 'that']['RC_modifier_head'].to_list())"
   ]
  },
  {
   "cell_type": "code",
   "execution_count": 6,
   "metadata": {},
   "outputs": [],
   "source": [
    "WHO_counts = Counter(WHO_list)"
   ]
  },
  {
   "cell_type": "code",
   "execution_count": 7,
   "metadata": {},
   "outputs": [],
   "source": [
    "WHICH_counts = Counter(WHICH_list)"
   ]
  },
  {
   "cell_type": "code",
   "execution_count": 8,
   "metadata": {},
   "outputs": [],
   "source": [
    "THAT_counts = Counter(THAT_list)"
   ]
  },
  {
   "cell_type": "code",
   "execution_count": 9,
   "metadata": {},
   "outputs": [],
   "source": [
    "WHO_words = WHO_counts.keys() - WHICH_counts.keys()"
   ]
  },
  {
   "cell_type": "code",
   "execution_count": 10,
   "metadata": {},
   "outputs": [
    {
     "data": {
      "text/plain": [
       "10275"
      ]
     },
     "execution_count": 10,
     "metadata": {},
     "output_type": "execute_result"
    }
   ],
   "source": [
    "len(WHO_words)"
   ]
  },
  {
   "cell_type": "code",
   "execution_count": 11,
   "metadata": {},
   "outputs": [],
   "source": [
    "WHICH_words = WHICH_counts.keys() - WHO_counts.keys()"
   ]
  },
  {
   "cell_type": "code",
   "execution_count": 12,
   "metadata": {},
   "outputs": [
    {
     "data": {
      "text/plain": [
       "6785"
      ]
     },
     "execution_count": 12,
     "metadata": {},
     "output_type": "execute_result"
    }
   ],
   "source": [
    "len(WHICH_words)"
   ]
  },
  {
   "cell_type": "code",
   "execution_count": 13,
   "metadata": {},
   "outputs": [],
   "source": [
    "with open('WHO.words', 'w') as f:\n",
    "    f.write('\\n'.join(WHO_words))"
   ]
  },
  {
   "cell_type": "code",
   "execution_count": 14,
   "metadata": {},
   "outputs": [],
   "source": [
    "with open('WHICH.words', 'w') as f:\n",
    "    f.write('\\n'.join(WHICH_words))"
   ]
  },
  {
   "cell_type": "code",
   "execution_count": 21,
   "metadata": {},
   "outputs": [],
   "source": [
    "for w, c in WHICH_counts.most_common():\n",
    "    with open('WHICH.word_counts.tsv', 'a') as f:\n",
    "        f.write('{}\\t{}\\n'.format(w, c))"
   ]
  },
  {
   "cell_type": "code",
   "execution_count": null,
   "metadata": {},
   "outputs": [],
   "source": []
  }
 ],
 "metadata": {
  "kernelspec": {
   "display_name": "Python 3",
   "language": "python",
   "name": "python3"
  },
  "language_info": {
   "codemirror_mode": {
    "name": "ipython",
    "version": 3
   },
   "file_extension": ".py",
   "mimetype": "text/x-python",
   "name": "python",
   "nbconvert_exporter": "python",
   "pygments_lexer": "ipython3",
   "version": "3.7.11"
  }
 },
 "nbformat": 4,
 "nbformat_minor": 2
}
